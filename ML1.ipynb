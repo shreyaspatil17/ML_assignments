{
  "nbformat": 4,
  "nbformat_minor": 0,
  "metadata": {
    "colab": {
      "provenance": []
    },
    "kernelspec": {
      "name": "python3",
      "display_name": "Python 3"
    },
    "language_info": {
      "name": "python"
    }
  },
  "cells": [
    {
      "cell_type": "markdown",
      "source": [
        "SelectKBest:\n",
        "\n",
        "We use the SelectKBest method to select the top 10 features based on the ANOVA F-value between the feature and the target variable.\n",
        "\n",
        "The k parameter is set to 10, meaning we want to keep the top 10 features.\n",
        "\n",
        "SelectPercentile:\n",
        "\n",
        "We use the SelectPercentile method to select the top 50% of features based on the ANOVA F-value.\n",
        "\n",
        "The percentile parameter is set to 50, meaning we want to keep the top 50% of the features.\n",
        "\n",
        "PCA:\n",
        "\n",
        "We first standardize the data using StandardScaler to ensure that each feature has a mean of 0 and a standard deviation of 1.\n",
        "\n",
        "We then apply PCA to reduce the dimensionality to 2 components.\n",
        "\n",
        "The explained_variance_ratio_ attribute shows the proportion of the dataset's variance that lies along each principal component."
      ],
      "metadata": {
        "id": "f-RTr1o3Ml8t"
      }
    },
    {
      "cell_type": "code",
      "execution_count": 2,
      "metadata": {
        "colab": {
          "base_uri": "https://localhost:8080/"
        },
        "id": "oxQdko_lL6Ee",
        "outputId": "8d834c40-6d1c-4e31-acb5-b533b2fe321b"
      },
      "outputs": [
        {
          "output_type": "stream",
          "name": "stdout",
          "text": [
            "Original dataset shape: (569, 30)\n",
            "After SelectKBest shape: (569, 10)\n",
            "Selected features using SelectKBest: ['mean radius', 'mean perimeter', 'mean area', 'mean concavity', 'mean concave points', 'worst radius', 'worst perimeter', 'worst area', 'worst concavity', 'worst concave points']\n",
            "After SelectPercentile shape: (569, 15)\n",
            "Selected features using SelectPercentile: ['mean radius', 'mean perimeter', 'mean area', 'mean compactness', 'mean concavity', 'mean concave points', 'radius error', 'perimeter error', 'area error', 'worst radius', 'worst perimeter', 'worst area', 'worst compactness', 'worst concavity', 'worst concave points']\n",
            "After PCA shape: (569, 10)\n",
            "Explained variance ratio using PCA: [9.82044672e-01 1.61764899e-02 1.55751075e-03 1.20931964e-04\n",
            " 8.82724536e-05 6.64883951e-06 4.01713682e-06 8.22017197e-07\n",
            " 3.44135279e-07 1.86018721e-07]\n"
          ]
        }
      ],
      "source": [
        "from sklearn.datasets import load_breast_cancer\n",
        "from sklearn.feature_selection import SelectKBest, SelectPercentile, f_classif\n",
        "from sklearn.decomposition import PCA\n",
        "import pandas as pd\n",
        "\n",
        "# Load dataset\n",
        "data = load_breast_cancer()\n",
        "X = pd.DataFrame(data.data, columns=data.feature_names)\n",
        "y = data.target\n",
        "\n",
        "print(\"Original dataset shape:\", X.shape)\n",
        "\n",
        "# 1. Reduce dimensions using SelectKBest\n",
        "k_best = SelectKBest(score_func=f_classif, k=10)  # Select top 10 features\n",
        "X_k_best = k_best.fit_transform(X, y)\n",
        "k_best_features = X.columns[k_best.get_support()]\n",
        "print(\"After SelectKBest shape:\", X_k_best.shape)\n",
        "print(\"Selected features using SelectKBest:\", list(k_best_features))\n",
        "\n",
        "# 2. Reduce dimensions using SelectPercentile\n",
        "percentile_best = SelectPercentile(score_func=f_classif, percentile=50)  # Select top 50% features\n",
        "X_percentile = percentile_best.fit_transform(X, y)\n",
        "percentile_features = X.columns[percentile_best.get_support()]\n",
        "print(\"After SelectPercentile shape:\", X_percentile.shape)\n",
        "print(\"Selected features using SelectPercentile:\", list(percentile_features))\n",
        "\n",
        "# 3. Reduce dimensions using PCA\n",
        "pca = PCA(n_components=10)  # Reduce to 10 principal components\n",
        "X_pca = pca.fit_transform(X)\n",
        "print(\"After PCA shape:\", X_pca.shape)\n",
        "print(\"Explained variance ratio using PCA:\", pca.explained_variance_ratio_)\n"
      ]
    }
  ]
}